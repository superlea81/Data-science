{
 "cells": [
  {
   "cell_type": "markdown",
   "metadata": {},
   "source": [
    "# 损失函数 代价函数 目标函数"
   ]
  },
  {
   "cell_type": "markdown",
   "metadata": {},
   "source": [
    "损失函数(loss function)：计算的是**一个样本**的误差   \n",
    "代价函数(cost function)：是整个训练集上**所有样本**误差的平均  \n",
    "目标函数(object function)：代价函数 + 正则化项  "
   ]
  },
  {
   "cell_type": "markdown",
   "metadata": {},
   "source": [
    "![jupyter](./Image/损失函数.png)"
   ]
  },
  {
   "cell_type": "markdown",
   "metadata": {},
   "source": [
    "上图依次为$f_1(x),f_2(x),f_3(x)$。假设现在x是房子的面积，用这三个函数来拟合price，图中打叉的为真实Y值。"
   ]
  },
  {
   "cell_type": "markdown",
   "metadata": {},
   "source": [
    "给一个input $x$，三个函数都会输出一个$f(x)$，这个输出的值是可能与$f(x)$即真实的price相同也可能是不同的，所以需要一个函数来**度量拟合的程度**。"
   ]
  },
  {
   "cell_type": "markdown",
   "metadata": {},
   "source": [
    "如：$L(Y, f(x)) = (Y - f(x)^2)$，这个函数被称作损失函数，或者代价函数。当$f(x)$和Y的差值越小，则意味着预测值和实际price越接近。既可以得出**损失函数越小**，模型**拟合越好**。"
   ]
  },
  {
   "cell_type": "markdown",
   "metadata": {},
   "source": [
    "接下来引入风险函数(risk function)。风险函数是损失函数的期望。但是这个联合分布是未知的，所以无法计算。但是我们是有历史数据的，就是我们的训练集，$f(x)$关于训练集的平均损失称作经验风险(empirical risk)，即  "
   ]
  },
  {
   "cell_type": "markdown",
   "metadata": {},
   "source": [
    "$\\frac{1}{N}\\sum_{i=1}^{N} L(y_i,f(x_i))$"
   ]
  },
  {
   "cell_type": "markdown",
   "metadata": {},
   "source": [
    "所以目标就是最小化上面这个函数，称为**经验风险最小化**。"
   ]
  },
  {
   "cell_type": "markdown",
   "metadata": {},
   "source": [
    "如最右图所示，$f_3(x)$的经验风险函数肯定是最小的，因为拟合的最好。但是它过度学习了历史数据(训练集)，导致它在真正预测的时候(测试集)表现不会很好。因为它在训练的时候把本该不属于的特性也学习进去了，这种情况称为**过拟合(over-fitting)**。"
   ]
  },
  {
   "cell_type": "markdown",
   "metadata": {},
   "source": [
    "我们不仅要让经验风险最小化，还要让结构风险最小化。这个时候定义了一个函数$J(f)$，这个函数专门来**度量模型的复杂度**，在机器学习中也叫正则化(regularization)。常用的有$L_1,L_2$范数。"
   ]
  },
  {
   "cell_type": "markdown",
   "metadata": {},
   "source": [
    "最优的函数是："
   ]
  },
  {
   "cell_type": "markdown",
   "metadata": {},
   "source": [
    "$min\\frac{1}{N}\\sum_{i=1}^{N} L(y_i,f(x_i))+\\lambda J(f)$"
   ]
  },
  {
   "cell_type": "markdown",
   "metadata": {},
   "source": [
    "这个函数被称作**目标函数**。"
   ]
  },
  {
   "cell_type": "markdown",
   "metadata": {},
   "source": [
    "最左面的$f_1(x)$结构风险最小（模型结构最简单），但是经验风险最大（对历史数据拟合的最差）；最右面的$f_3(x)$经验风险最小（对历史数据拟合的最好），但是结构风险最大（模型结构最复杂）;而$f_2(x)$达到了二者的良好平衡，最适合用来预测未知数据集。"
   ]
  },
  {
   "cell_type": "markdown",
   "metadata": {},
   "source": [
    "[参考博客](https://www.zhihu.com/question/52398145)"
   ]
  },
  {
   "cell_type": "markdown",
   "metadata": {},
   "source": [
    "思考：在吴恩达的损失函数视频中，给出的是"
   ]
  },
  {
   "cell_type": "markdown",
   "metadata": {},
   "source": [
    "$J=\\frac{1}{2m}\\sum_{i=1}^{m}(h_0(x^{(i)})-y^{(i)})$"
   ]
  },
  {
   "cell_type": "markdown",
   "metadata": {},
   "source": [
    "为什么是除以2m，不应该是除以m吗？"
   ]
  }
 ],
 "metadata": {
  "kernelspec": {
   "display_name": "Python 3",
   "language": "python",
   "name": "python3"
  },
  "language_info": {
   "codemirror_mode": {
    "name": "ipython",
    "version": 3
   },
   "file_extension": ".py",
   "mimetype": "text/x-python",
   "name": "python",
   "nbconvert_exporter": "python",
   "pygments_lexer": "ipython3",
   "version": "3.7.4"
  }
 },
 "nbformat": 4,
 "nbformat_minor": 2
}
